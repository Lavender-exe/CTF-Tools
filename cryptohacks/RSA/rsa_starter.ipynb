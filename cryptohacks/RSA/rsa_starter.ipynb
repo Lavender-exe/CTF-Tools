{
 "cells": [
  {
   "cell_type": "markdown",
   "metadata": {},
   "source": [
    "# Starter Exercise 1\n",
    "\n",
    "Find the solution to $101^{17} \\ mod \\ 22663$"
   ]
  },
  {
   "cell_type": "code",
   "execution_count": 2,
   "metadata": {},
   "outputs": [
    {
     "name": "stdout",
     "output_type": "stream",
     "text": [
      "19906\n"
     ]
    }
   ],
   "source": [
    "print(pow(101, 17, 22663))"
   ]
  },
  {
   "cell_type": "markdown",
   "metadata": {},
   "source": [
    "## Starter Exercise 2\n",
    "\n",
    "RSA encryption is modular exponentiation of a message with an exponent `e` and a modulus `N` which is normally a product of two primes: `N = p * q`.\n",
    "\n",
    "Together the exponent and modulus form an RSA \"public key\" `(N, e)`. The most common value for `e` is `0x10001` or `65537`.\n",
    "\n",
    "\"Encrypt\" the number 12 using the exponent `e = 65537` and the primes `p = 17` and `q = 23`. What number do you get as the ciphertext? "
   ]
  },
  {
   "cell_type": "code",
   "execution_count": 3,
   "metadata": {},
   "outputs": [
    {
     "name": "stdout",
     "output_type": "stream",
     "text": [
      "301\n"
     ]
    }
   ],
   "source": [
    "p = 17\n",
    "q = 23\n",
    "N = p * q\n",
    "e = 65537\n",
    "\n",
    "pt = 12\n",
    "\n",
    "ct = pow(pt, e, N)\n",
    "\n",
    "print(ct)"
   ]
  },
  {
   "cell_type": "markdown",
   "metadata": {},
   "source": [
    "## Starter Exercise 3\n",
    "\n",
    "RSA relies on the difficulty of the factorisation of the modulus `N`. If the primes can be found then we can calculate the Euler totient of `N` and thus decrypt the ciphertext.\n",
    "\n",
    "Given `N = p*q` and two primes:\n",
    "\n",
    "`p = 857504083339712752489993810777`\n",
    "\n",
    "`q = 1029224947942998075080348647219`\n",
    "\n",
    "What is the totient of `N`? "
   ]
  },
  {
   "cell_type": "code",
   "execution_count": null,
   "metadata": {},
   "outputs": [],
   "source": []
  }
 ],
 "metadata": {
  "interpreter": {
   "hash": "7b4b4feff2f24a0f0a34464dbe537a36fda679851528fb8735cb41fa49dffb2d"
  },
  "kernelspec": {
   "display_name": "Python 3.8.8 ('base')",
   "language": "python",
   "name": "python3"
  },
  "language_info": {
   "codemirror_mode": {
    "name": "ipython",
    "version": 3
   },
   "file_extension": ".py",
   "mimetype": "text/x-python",
   "name": "python",
   "nbconvert_exporter": "python",
   "pygments_lexer": "ipython3",
   "version": "3.8.8"
  },
  "orig_nbformat": 4
 },
 "nbformat": 4,
 "nbformat_minor": 2
}
